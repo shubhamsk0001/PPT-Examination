{
 "cells": [
  {
   "cell_type": "code",
   "execution_count": 30,
   "id": "b4ee57a7",
   "metadata": {},
   "outputs": [
    {
     "name": "stdout",
     "output_type": "stream",
     "text": [
      "None\n"
     ]
    }
   ],
   "source": [
    "def moveZeroes(nums):\n",
    "\n",
    "    slow=0\n",
    "    fast=0\n",
    "    while fast < len(nums):\n",
    "        if nums[slow] == 0 and nums[fast] != 0:\n",
    "            nums[slow], nums[fast] = nums[fast], nums[slow]\n",
    "            fast += 1\n",
    "            slow +=1\n",
    "        elif nums[fast] == 0:\n",
    "                fast += 1\n",
    "        else:\n",
    "            slow += 1\n",
    "            fast += 1\n",
    "print(moveZeroes( [0,1,0,3,12]))"
   ]
  },
  {
   "cell_type": "code",
   "execution_count": 31,
   "id": "9ddc5dde",
   "metadata": {},
   "outputs": [
    {
     "name": "stdout",
     "output_type": "stream",
     "text": [
      "None\n"
     ]
    }
   ],
   "source": [
    "    def lengthOfLongestSubstring(s):\n",
    "        output = 0\n",
    "        count = {}\n",
    "        pos = -1\n",
    "        for index, letter in enumerate(s):\n",
    "            if letter in count and count[letter] > pos:\n",
    "                pos = count[letter]\n",
    "            count[letter] = index \n",
    "            output = max(output,index-pos)\n",
    "    print(lengthOfLongestSubstring(\"leetcode\"))"
   ]
  },
  {
   "cell_type": "code",
   "execution_count": null,
   "id": "0104b68b",
   "metadata": {},
   "outputs": [],
   "source": []
  },
  {
   "cell_type": "code",
   "execution_count": null,
   "id": "7254c201",
   "metadata": {},
   "outputs": [],
   "source": []
  }
 ],
 "metadata": {
  "kernelspec": {
   "display_name": "Python 3 (ipykernel)",
   "language": "python",
   "name": "python3"
  },
  "language_info": {
   "codemirror_mode": {
    "name": "ipython",
    "version": 3
   },
   "file_extension": ".py",
   "mimetype": "text/x-python",
   "name": "python",
   "nbconvert_exporter": "python",
   "pygments_lexer": "ipython3",
   "version": "3.9.12"
  }
 },
 "nbformat": 4,
 "nbformat_minor": 5
}
